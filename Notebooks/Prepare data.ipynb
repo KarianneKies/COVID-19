{
 "cells": [
  {
   "cell_type": "code",
   "execution_count": 14,
   "metadata": {},
   "outputs": [],
   "source": [
    "import pandas as pd\n",
    "import numpy as np\n",
    "import glob"
   ]
  },
  {
   "cell_type": "code",
   "execution_count": 44,
   "metadata": {
    "scrolled": true
   },
   "outputs": [],
   "source": [
    "#import datafiles of temp per country into one file \n",
    "files=glob.glob(\"/Users/kariannekies/Documents/COVID-Temp/Raw Data/*.*\")\n",
    "dfs = [pd.read_csv(f, header=0, sep=\";\") for f in files]\n",
    "Temp_data= pd.concat(dfs, ignore_index=True)\n",
    "\n",
    "#import corona datafile \n",
    "df_corona= pd.read_csv(\"https://raw.githubusercontent.com/KarianneKies/COVID-Temp/main/data/raw_data/owid-covid-data-2.csv?token=ASOHHSHAJ3C4RFOKWZ3P7DTAA5XCS\")"
   ]
  },
  {
   "cell_type": "code",
   "execution_count": 52,
   "metadata": {},
   "outputs": [],
   "source": [
    "#prepare data for merge \n",
    "import datetime\n",
    "\n",
    "Temp_data[\"DATE\"] = pd.to_datetime(Temp_data[\"DATE\"])\n",
    "Temp_data[\"DATE\"] = Temp_data[\"DATE\"].dt.strftime(\"%m/%d/%y\")\n",
    "Temp_data[\"DATE\"] = Temp_data[\"DATE\"].astype(str)\n",
    "\n",
    "df_corona[\"date\"] = pd.to_datetime(df_corona[\"date\"])\n",
    "df_corona[\"date\"] = df_corona[\"date\"].dt.strftime(\"%m/%d/%y\")\n",
    "df_corona[\"date\"] = df_corona[\"date\"].astype(str)"
   ]
  },
  {
   "cell_type": "code",
   "execution_count": 67,
   "metadata": {},
   "outputs": [],
   "source": [
    "#merge datasets \n",
    "data = pd.merge(Temp_data, df_corona, left_on=[\"DATE\", \"COUNTRY\"], right_on=[\"date\", \"location\"], how='left')"
   ]
  }
 ],
 "metadata": {
  "kernelspec": {
   "display_name": "Python 3",
   "language": "python",
   "name": "python3"
  },
  "language_info": {
   "codemirror_mode": {
    "name": "ipython",
    "version": 3
   },
   "file_extension": ".py",
   "mimetype": "text/x-python",
   "name": "python",
   "nbconvert_exporter": "python",
   "pygments_lexer": "ipython3",
   "version": "3.8.5"
  }
 },
 "nbformat": 4,
 "nbformat_minor": 4
}
